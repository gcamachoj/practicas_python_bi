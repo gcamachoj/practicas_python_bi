{
  "nbformat": 4,
  "nbformat_minor": 0,
  "metadata": {
    "colab": {
      "provenance": [],
      "toc_visible": true,
      "authorship_tag": "ABX9TyPxRcremW5BhWSeXVFhN/g6",
      "include_colab_link": true
    },
    "kernelspec": {
      "name": "python3",
      "display_name": "Python 3"
    },
    "language_info": {
      "name": "python"
    }
  },
  "cells": [
    {
      "cell_type": "markdown",
      "metadata": {
        "id": "view-in-github",
        "colab_type": "text"
      },
      "source": [
        "<a href=\"https://colab.research.google.com/github/gcamachoj/practicas_python_bi/blob/main/practica_python_estadistca.ipynb\" target=\"_parent\"><img src=\"https://colab.research.google.com/assets/colab-badge.svg\" alt=\"Open In Colab\"/></a>"
      ]
    },
    {
      "cell_type": "markdown",
      "source": [
        "#**Introducción**#\n",
        "Este ejercicio contiene practicas de python en temática de medidas de tendencia central tales como la media, mediana, media recortada y medidas de dispersión tales como la varianza, desviación estandar.\n",
        "\n",
        "# **Contenidos**\n",
        "\n",
        "### **Parte 1**\n",
        "* Creación de estructuras tipo listas.\n",
        "* listar metodos para un objeto.\n",
        "* Función o método \"Sort\"\n",
        "* Método \"len\"\n",
        "* Crear algorigmo para calcular la Media Aritmética.\n",
        "* Crear algoritmo para calcular la mediana.\n",
        "* Método \"describe\"\n",
        "* Librería Numpy\n",
        "* Crear Algoritmo de medidas de tendencia central.\n",
        "* Calcular la media recortada a un porcentaje (%) dado.\n",
        "\n",
        "### **Parte 2**\n",
        "* medidas de Dispersión o Variabilidad.\n",
        "* Rango\n",
        "* Varianza Muestral\n",
        "* Varianza Poblacional\n",
        "* Desviación Estándard\n",
        "\n",
        "\n",
        "# **Metodología**#\n",
        "\n",
        "\n",
        "### Este ejercicio contiene prácticas empleando python, numpy y pandas a modo de práctica para desarrollar las actividades del curso del siguiente link de coursera:\n",
        "https://www.udemy.com/course/probabilidad-y-estadistica-introduccion-a-la-estadistica/learn/quiz/5822562#overview"
      ],
      "metadata": {
        "id": "OWYtkS_u0H2M"
      }
    },
    {
      "cell_type": "markdown",
      "source": [
        "## **Parte 1: Medidas de Tendencia Central**\n"
      ],
      "metadata": {
        "id": "lnay6JTlIIxb"
      }
    },
    {
      "cell_type": "markdown",
      "source": [
        "**Calular la media de los siguientes conjuntos de datos:**\n",
        "\n",
        "* Conjunto 1: 227,   222,   218,   217,   225,   218,   216,   229,   228,   221\n",
        "* Conjunto 2: 219,   214,   215,   211,   209,   218,   203,   204,   201,   205\n"
      ],
      "metadata": {
        "id": "uDM49D8y1Yzn"
      }
    },
    {
      "cell_type": "code",
      "execution_count": 2,
      "metadata": {
        "id": "ZYcFIYJpM4IL"
      },
      "outputs": [],
      "source": [
        " # Generamos las 2 estructuras de datos definiendoas como listas:\n",
        "list_1 = [227,   222,   218,   217,   225,   218,   216,   229,   228,   221]\n",
        "list_2 = [219,   214,   215,   211,   209,   218,   203,   204,   201,   205]\n"
      ]
    },
    {
      "cell_type": "code",
      "source": [
        "# la función dir se puede aplicar sobre un objeto y permite ver que metodos y propiedades se pueden le pueden aplicar\n",
        "dir(list_1)"
      ],
      "metadata": {
        "colab": {
          "base_uri": "https://localhost:8080/"
        },
        "id": "KL51aKa4NRU2",
        "outputId": "25b6efc6-bc6f-4837-885a-5338ec6c4e22"
      },
      "execution_count": 3,
      "outputs": [
        {
          "output_type": "execute_result",
          "data": {
            "text/plain": [
              "['__add__',\n",
              " '__class__',\n",
              " '__class_getitem__',\n",
              " '__contains__',\n",
              " '__delattr__',\n",
              " '__delitem__',\n",
              " '__dir__',\n",
              " '__doc__',\n",
              " '__eq__',\n",
              " '__format__',\n",
              " '__ge__',\n",
              " '__getattribute__',\n",
              " '__getitem__',\n",
              " '__getstate__',\n",
              " '__gt__',\n",
              " '__hash__',\n",
              " '__iadd__',\n",
              " '__imul__',\n",
              " '__init__',\n",
              " '__init_subclass__',\n",
              " '__iter__',\n",
              " '__le__',\n",
              " '__len__',\n",
              " '__lt__',\n",
              " '__mul__',\n",
              " '__ne__',\n",
              " '__new__',\n",
              " '__reduce__',\n",
              " '__reduce_ex__',\n",
              " '__repr__',\n",
              " '__reversed__',\n",
              " '__rmul__',\n",
              " '__setattr__',\n",
              " '__setitem__',\n",
              " '__sizeof__',\n",
              " '__str__',\n",
              " '__subclasshook__',\n",
              " 'append',\n",
              " 'clear',\n",
              " 'copy',\n",
              " 'count',\n",
              " 'extend',\n",
              " 'index',\n",
              " 'insert',\n",
              " 'pop',\n",
              " 'remove',\n",
              " 'reverse',\n",
              " 'sort']"
            ]
          },
          "metadata": {},
          "execution_count": 3
        }
      ]
    },
    {
      "cell_type": "code",
      "source": [
        "# La propiedad sort ordena la lista y la almacena.\n",
        "list_1.sort()\n",
        "list_2.sort()"
      ],
      "metadata": {
        "id": "Chr8H1_0NrHH"
      },
      "execution_count": 4,
      "outputs": []
    },
    {
      "cell_type": "code",
      "source": [
        "print(\"La función print nos permite imprimir texto, pero este debe estar entre comillas\")"
      ],
      "metadata": {
        "colab": {
          "base_uri": "https://localhost:8080/"
        },
        "id": "GdQG-wjq6fgJ",
        "outputId": "4eb9a036-eb17-4f5f-8532-c3ca27493699"
      },
      "execution_count": 5,
      "outputs": [
        {
          "output_type": "stream",
          "name": "stdout",
          "text": [
            "La función print nos permite imprimir texto, pero este debe estar entre comillas\n"
          ]
        }
      ]
    },
    {
      "cell_type": "code",
      "source": [
        "# validamos con la funcion print también podemos imprimir el contenido de estructuras como listas, variables, etc. Para ello no se requieren las comillas ya que los objetos están definidos desde su creación y python los carga por su nombre\n",
        "print(list_1)\n",
        "print(list_2)\n"
      ],
      "metadata": {
        "colab": {
          "base_uri": "https://localhost:8080/"
        },
        "id": "EtA01okdPVpI",
        "outputId": "d59f3b01-cd69-42b6-9087-f9c4bfcb7fff"
      },
      "execution_count": 6,
      "outputs": [
        {
          "output_type": "stream",
          "name": "stdout",
          "text": [
            "[216, 217, 218, 218, 221, 222, 225, 227, 228, 229]\n",
            "[201, 203, 204, 205, 209, 211, 214, 215, 218, 219]\n"
          ]
        }
      ]
    },
    {
      "cell_type": "code",
      "source": [
        "# el método len genera un conteo de elementos de la lista.\n",
        "len(list_1)"
      ],
      "metadata": {
        "colab": {
          "base_uri": "https://localhost:8080/"
        },
        "id": "RukBkcAgQnk3",
        "outputId": "48ca7693-6171-4d05-8a41-dc634e2fa0bd"
      },
      "execution_count": 7,
      "outputs": [
        {
          "output_type": "execute_result",
          "data": {
            "text/plain": [
              "10"
            ]
          },
          "metadata": {},
          "execution_count": 7
        }
      ]
    },
    {
      "cell_type": "code",
      "source": [
        "#Con print también podemos concatenar texto con el resultado de variables.\n",
        "print(\"La lista 1 tiene \", len(list_1), \" elementos\")\n",
        "print(\"La lista 2 tiene \", len(list_2), \" elementos\")"
      ],
      "metadata": {
        "colab": {
          "base_uri": "https://localhost:8080/"
        },
        "id": "y_HrYaPJ2Wo0",
        "outputId": "ad2f588d-1daa-466f-a9e2-dcd839a77128"
      },
      "execution_count": 8,
      "outputs": [
        {
          "output_type": "stream",
          "name": "stdout",
          "text": [
            "La lista 1 tiene  10  elementos\n",
            "La lista 2 tiene  10  elementos\n"
          ]
        }
      ]
    },
    {
      "cell_type": "code",
      "source": [
        "\"\"\" Ahora, creamos una función para calcular calcular el promedio de los valores de una lista.\n",
        "    Las funciones se definen con def. denominamos a la función \"mean\". Le asignarémos un parámetro list\"\"\"\n",
        "\n",
        "def mean(list):\n",
        "  total = 0                     # definimos la variable total y le asignamos 0\n",
        "  for element in list:          # Por cada elemento de la lista\n",
        "    total = total + element     # Acumular la suma de los elementos iterados\n",
        "\n",
        "  mean = total/ len(list)       # Se define la variable mean y se le asigna la el resultado de la operacion que toma el total y lo divide entre la cantidad de elementos de la lista.\n",
        "  return  mean                  # Retorna el valor de la variable\n"
      ],
      "metadata": {
        "id": "mfxoX83IPXVS"
      },
      "execution_count": 9,
      "outputs": []
    },
    {
      "cell_type": "code",
      "source": [
        "mean(list_1)    # Probamos la función pasándole la lista list_1"
      ],
      "metadata": {
        "colab": {
          "base_uri": "https://localhost:8080/"
        },
        "id": "gus-TF_vRFcz",
        "outputId": "1e8003e5-b682-417c-804e-c8bdce1d4560"
      },
      "execution_count": 10,
      "outputs": [
        {
          "output_type": "execute_result",
          "data": {
            "text/plain": [
              "222.1"
            ]
          },
          "metadata": {},
          "execution_count": 10
        }
      ]
    },
    {
      "cell_type": "code",
      "source": [
        "mean(list_2)  # Ahora reusamos la función con la lista list_2"
      ],
      "metadata": {
        "colab": {
          "base_uri": "https://localhost:8080/"
        },
        "id": "EJ5kPPp3Siyh",
        "outputId": "50ecd974-b6a5-4480-a8d0-951eab9f78e7"
      },
      "execution_count": 11,
      "outputs": [
        {
          "output_type": "execute_result",
          "data": {
            "text/plain": [
              "209.9"
            ]
          },
          "metadata": {},
          "execution_count": 11
        }
      ]
    },
    {
      "cell_type": "code",
      "source": [
        "print(\"Los promedios de las listas son: \" , mean(list_1), \" y \", mean(list_2))"
      ],
      "metadata": {
        "colab": {
          "base_uri": "https://localhost:8080/"
        },
        "id": "5CHi0wHkB6iY",
        "outputId": "3b27f6eb-f6e5-4ac2-bf7d-093dd0c0eab8"
      },
      "execution_count": 12,
      "outputs": [
        {
          "output_type": "stream",
          "name": "stdout",
          "text": [
            "Los promedios de las listas son:  222.1  y  209.9\n"
          ]
        }
      ]
    },
    {
      "cell_type": "markdown",
      "source": [
        "## Calcular la mediana de las listas 1 y 2:"
      ],
      "metadata": {
        "id": "fVVAOYNhCZv3"
      }
    },
    {
      "cell_type": "code",
      "source": [
        "# Definimos una función para la mediana\n",
        "def median(list):\n",
        "  total_elements =  len(list)\n",
        "  if total_elements % 2  != 0:      # Si la cantidad de elementos de la lista es impar:\n",
        "      median_position = ((total_elements+1)/2)-1    # Se suma 1 cuando la lista es impart. pero al final se resta 1 al resultado dado que se va usar como índice de lista y los índices inician desde 0.\n",
        "      median_value = list[int(median_position)]\n",
        "  else:                             # Si la cantidad de elementos de la lista es par:\n",
        "      median_position1 = ((total_elements)/2)-1 # Calcula la posicion (index) 1 de la mediana. Se resta 1 ya que las listas se indexan desde 0\n",
        "      median_position2 = median_position1 + 1 # Calcula la segunda posicion (index) de la mediana.\n",
        "      median_value = ((list[int(median_position1)]) + (list[int(median_position2)]))/2 # promedia los valores de las dos posiciones para calcular la mediana\n",
        "  return median_value"
      ],
      "metadata": {
        "id": "flSABQZgSlF5"
      },
      "execution_count": 13,
      "outputs": []
    },
    {
      "cell_type": "code",
      "source": [
        "print(\"Las mediana de las listas 1 y 2 son: \", median(list_1), \"y \", median(list_2))"
      ],
      "metadata": {
        "colab": {
          "base_uri": "https://localhost:8080/"
        },
        "id": "E6jH0NHWTfC4",
        "outputId": "baf2d74c-72ad-4397-d7e1-b88cbfd12bfc"
      },
      "execution_count": 14,
      "outputs": [
        {
          "output_type": "stream",
          "name": "stdout",
          "text": [
            "Las mediana de las listas 1 y 2 son:  221.5 y  210.0\n"
          ]
        }
      ]
    },
    {
      "cell_type": "markdown",
      "source": [
        "## Calculo de medidas con pandas Pandas"
      ],
      "metadata": {
        "id": "n9ZeMqL9DGh2"
      }
    },
    {
      "cell_type": "code",
      "source": [
        "import pandas as pd # Importamos la librería pandas"
      ],
      "metadata": {
        "id": "6oXFl6gdWJvd"
      },
      "execution_count": 15,
      "outputs": []
    },
    {
      "cell_type": "code",
      "source": [
        "df_list_1 = pd.DataFrame(list_1)  # Creamos 2 dataframes con las listas.\n",
        "df_list_2 = pd.DataFrame(list_2)"
      ],
      "metadata": {
        "id": "xm8cgv_Vvw1h"
      },
      "execution_count": 16,
      "outputs": []
    },
    {
      "cell_type": "code",
      "source": [
        "# Probamos la función \"describe\" de pandas con la lista list_1\n",
        "df_list_1.describe()"
      ],
      "metadata": {
        "colab": {
          "base_uri": "https://localhost:8080/",
          "height": 300
        },
        "id": "LHGKRq3av1mi",
        "outputId": "f5f9dced-a01b-4cc1-a582-b3f0864402bf"
      },
      "execution_count": 17,
      "outputs": [
        {
          "output_type": "execute_result",
          "data": {
            "text/plain": [
              "                0\n",
              "count   10.000000\n",
              "mean   222.100000\n",
              "std      4.863698\n",
              "min    216.000000\n",
              "25%    218.000000\n",
              "50%    221.500000\n",
              "75%    226.500000\n",
              "max    229.000000"
            ],
            "text/html": [
              "\n",
              "  <div id=\"df-3f50532f-ae5b-4d2e-a771-ca05d764ef9a\" class=\"colab-df-container\">\n",
              "    <div>\n",
              "<style scoped>\n",
              "    .dataframe tbody tr th:only-of-type {\n",
              "        vertical-align: middle;\n",
              "    }\n",
              "\n",
              "    .dataframe tbody tr th {\n",
              "        vertical-align: top;\n",
              "    }\n",
              "\n",
              "    .dataframe thead th {\n",
              "        text-align: right;\n",
              "    }\n",
              "</style>\n",
              "<table border=\"1\" class=\"dataframe\">\n",
              "  <thead>\n",
              "    <tr style=\"text-align: right;\">\n",
              "      <th></th>\n",
              "      <th>0</th>\n",
              "    </tr>\n",
              "  </thead>\n",
              "  <tbody>\n",
              "    <tr>\n",
              "      <th>count</th>\n",
              "      <td>10.000000</td>\n",
              "    </tr>\n",
              "    <tr>\n",
              "      <th>mean</th>\n",
              "      <td>222.100000</td>\n",
              "    </tr>\n",
              "    <tr>\n",
              "      <th>std</th>\n",
              "      <td>4.863698</td>\n",
              "    </tr>\n",
              "    <tr>\n",
              "      <th>min</th>\n",
              "      <td>216.000000</td>\n",
              "    </tr>\n",
              "    <tr>\n",
              "      <th>25%</th>\n",
              "      <td>218.000000</td>\n",
              "    </tr>\n",
              "    <tr>\n",
              "      <th>50%</th>\n",
              "      <td>221.500000</td>\n",
              "    </tr>\n",
              "    <tr>\n",
              "      <th>75%</th>\n",
              "      <td>226.500000</td>\n",
              "    </tr>\n",
              "    <tr>\n",
              "      <th>max</th>\n",
              "      <td>229.000000</td>\n",
              "    </tr>\n",
              "  </tbody>\n",
              "</table>\n",
              "</div>\n",
              "    <div class=\"colab-df-buttons\">\n",
              "\n",
              "  <div class=\"colab-df-container\">\n",
              "    <button class=\"colab-df-convert\" onclick=\"convertToInteractive('df-3f50532f-ae5b-4d2e-a771-ca05d764ef9a')\"\n",
              "            title=\"Convert this dataframe to an interactive table.\"\n",
              "            style=\"display:none;\">\n",
              "\n",
              "  <svg xmlns=\"http://www.w3.org/2000/svg\" height=\"24px\" viewBox=\"0 -960 960 960\">\n",
              "    <path d=\"M120-120v-720h720v720H120Zm60-500h600v-160H180v160Zm220 220h160v-160H400v160Zm0 220h160v-160H400v160ZM180-400h160v-160H180v160Zm440 0h160v-160H620v160ZM180-180h160v-160H180v160Zm440 0h160v-160H620v160Z\"/>\n",
              "  </svg>\n",
              "    </button>\n",
              "\n",
              "  <style>\n",
              "    .colab-df-container {\n",
              "      display:flex;\n",
              "      gap: 12px;\n",
              "    }\n",
              "\n",
              "    .colab-df-convert {\n",
              "      background-color: #E8F0FE;\n",
              "      border: none;\n",
              "      border-radius: 50%;\n",
              "      cursor: pointer;\n",
              "      display: none;\n",
              "      fill: #1967D2;\n",
              "      height: 32px;\n",
              "      padding: 0 0 0 0;\n",
              "      width: 32px;\n",
              "    }\n",
              "\n",
              "    .colab-df-convert:hover {\n",
              "      background-color: #E2EBFA;\n",
              "      box-shadow: 0px 1px 2px rgba(60, 64, 67, 0.3), 0px 1px 3px 1px rgba(60, 64, 67, 0.15);\n",
              "      fill: #174EA6;\n",
              "    }\n",
              "\n",
              "    .colab-df-buttons div {\n",
              "      margin-bottom: 4px;\n",
              "    }\n",
              "\n",
              "    [theme=dark] .colab-df-convert {\n",
              "      background-color: #3B4455;\n",
              "      fill: #D2E3FC;\n",
              "    }\n",
              "\n",
              "    [theme=dark] .colab-df-convert:hover {\n",
              "      background-color: #434B5C;\n",
              "      box-shadow: 0px 1px 3px 1px rgba(0, 0, 0, 0.15);\n",
              "      filter: drop-shadow(0px 1px 2px rgba(0, 0, 0, 0.3));\n",
              "      fill: #FFFFFF;\n",
              "    }\n",
              "  </style>\n",
              "\n",
              "    <script>\n",
              "      const buttonEl =\n",
              "        document.querySelector('#df-3f50532f-ae5b-4d2e-a771-ca05d764ef9a button.colab-df-convert');\n",
              "      buttonEl.style.display =\n",
              "        google.colab.kernel.accessAllowed ? 'block' : 'none';\n",
              "\n",
              "      async function convertToInteractive(key) {\n",
              "        const element = document.querySelector('#df-3f50532f-ae5b-4d2e-a771-ca05d764ef9a');\n",
              "        const dataTable =\n",
              "          await google.colab.kernel.invokeFunction('convertToInteractive',\n",
              "                                                    [key], {});\n",
              "        if (!dataTable) return;\n",
              "\n",
              "        const docLinkHtml = 'Like what you see? Visit the ' +\n",
              "          '<a target=\"_blank\" href=https://colab.research.google.com/notebooks/data_table.ipynb>data table notebook</a>'\n",
              "          + ' to learn more about interactive tables.';\n",
              "        element.innerHTML = '';\n",
              "        dataTable['output_type'] = 'display_data';\n",
              "        await google.colab.output.renderOutput(dataTable, element);\n",
              "        const docLink = document.createElement('div');\n",
              "        docLink.innerHTML = docLinkHtml;\n",
              "        element.appendChild(docLink);\n",
              "      }\n",
              "    </script>\n",
              "  </div>\n",
              "\n",
              "\n",
              "<div id=\"df-b0816fa4-b934-4e26-8874-fc26419b917c\">\n",
              "  <button class=\"colab-df-quickchart\" onclick=\"quickchart('df-b0816fa4-b934-4e26-8874-fc26419b917c')\"\n",
              "            title=\"Suggest charts\"\n",
              "            style=\"display:none;\">\n",
              "\n",
              "<svg xmlns=\"http://www.w3.org/2000/svg\" height=\"24px\"viewBox=\"0 0 24 24\"\n",
              "     width=\"24px\">\n",
              "    <g>\n",
              "        <path d=\"M19 3H5c-1.1 0-2 .9-2 2v14c0 1.1.9 2 2 2h14c1.1 0 2-.9 2-2V5c0-1.1-.9-2-2-2zM9 17H7v-7h2v7zm4 0h-2V7h2v10zm4 0h-2v-4h2v4z\"/>\n",
              "    </g>\n",
              "</svg>\n",
              "  </button>\n",
              "\n",
              "<style>\n",
              "  .colab-df-quickchart {\n",
              "      --bg-color: #E8F0FE;\n",
              "      --fill-color: #1967D2;\n",
              "      --hover-bg-color: #E2EBFA;\n",
              "      --hover-fill-color: #174EA6;\n",
              "      --disabled-fill-color: #AAA;\n",
              "      --disabled-bg-color: #DDD;\n",
              "  }\n",
              "\n",
              "  [theme=dark] .colab-df-quickchart {\n",
              "      --bg-color: #3B4455;\n",
              "      --fill-color: #D2E3FC;\n",
              "      --hover-bg-color: #434B5C;\n",
              "      --hover-fill-color: #FFFFFF;\n",
              "      --disabled-bg-color: #3B4455;\n",
              "      --disabled-fill-color: #666;\n",
              "  }\n",
              "\n",
              "  .colab-df-quickchart {\n",
              "    background-color: var(--bg-color);\n",
              "    border: none;\n",
              "    border-radius: 50%;\n",
              "    cursor: pointer;\n",
              "    display: none;\n",
              "    fill: var(--fill-color);\n",
              "    height: 32px;\n",
              "    padding: 0;\n",
              "    width: 32px;\n",
              "  }\n",
              "\n",
              "  .colab-df-quickchart:hover {\n",
              "    background-color: var(--hover-bg-color);\n",
              "    box-shadow: 0 1px 2px rgba(60, 64, 67, 0.3), 0 1px 3px 1px rgba(60, 64, 67, 0.15);\n",
              "    fill: var(--button-hover-fill-color);\n",
              "  }\n",
              "\n",
              "  .colab-df-quickchart-complete:disabled,\n",
              "  .colab-df-quickchart-complete:disabled:hover {\n",
              "    background-color: var(--disabled-bg-color);\n",
              "    fill: var(--disabled-fill-color);\n",
              "    box-shadow: none;\n",
              "  }\n",
              "\n",
              "  .colab-df-spinner {\n",
              "    border: 2px solid var(--fill-color);\n",
              "    border-color: transparent;\n",
              "    border-bottom-color: var(--fill-color);\n",
              "    animation:\n",
              "      spin 1s steps(1) infinite;\n",
              "  }\n",
              "\n",
              "  @keyframes spin {\n",
              "    0% {\n",
              "      border-color: transparent;\n",
              "      border-bottom-color: var(--fill-color);\n",
              "      border-left-color: var(--fill-color);\n",
              "    }\n",
              "    20% {\n",
              "      border-color: transparent;\n",
              "      border-left-color: var(--fill-color);\n",
              "      border-top-color: var(--fill-color);\n",
              "    }\n",
              "    30% {\n",
              "      border-color: transparent;\n",
              "      border-left-color: var(--fill-color);\n",
              "      border-top-color: var(--fill-color);\n",
              "      border-right-color: var(--fill-color);\n",
              "    }\n",
              "    40% {\n",
              "      border-color: transparent;\n",
              "      border-right-color: var(--fill-color);\n",
              "      border-top-color: var(--fill-color);\n",
              "    }\n",
              "    60% {\n",
              "      border-color: transparent;\n",
              "      border-right-color: var(--fill-color);\n",
              "    }\n",
              "    80% {\n",
              "      border-color: transparent;\n",
              "      border-right-color: var(--fill-color);\n",
              "      border-bottom-color: var(--fill-color);\n",
              "    }\n",
              "    90% {\n",
              "      border-color: transparent;\n",
              "      border-bottom-color: var(--fill-color);\n",
              "    }\n",
              "  }\n",
              "</style>\n",
              "\n",
              "  <script>\n",
              "    async function quickchart(key) {\n",
              "      const quickchartButtonEl =\n",
              "        document.querySelector('#' + key + ' button');\n",
              "      quickchartButtonEl.disabled = true;  // To prevent multiple clicks.\n",
              "      quickchartButtonEl.classList.add('colab-df-spinner');\n",
              "      try {\n",
              "        const charts = await google.colab.kernel.invokeFunction(\n",
              "            'suggestCharts', [key], {});\n",
              "      } catch (error) {\n",
              "        console.error('Error during call to suggestCharts:', error);\n",
              "      }\n",
              "      quickchartButtonEl.classList.remove('colab-df-spinner');\n",
              "      quickchartButtonEl.classList.add('colab-df-quickchart-complete');\n",
              "    }\n",
              "    (() => {\n",
              "      let quickchartButtonEl =\n",
              "        document.querySelector('#df-b0816fa4-b934-4e26-8874-fc26419b917c button');\n",
              "      quickchartButtonEl.style.display =\n",
              "        google.colab.kernel.accessAllowed ? 'block' : 'none';\n",
              "    })();\n",
              "  </script>\n",
              "</div>\n",
              "\n",
              "    </div>\n",
              "  </div>\n"
            ],
            "application/vnd.google.colaboratory.intrinsic+json": {
              "type": "dataframe",
              "summary": "{\n  \"name\": \"df_list_1\",\n  \"rows\": 8,\n  \"fields\": [\n    {\n      \"column\": 0,\n      \"properties\": {\n        \"dtype\": \"number\",\n        \"std\": 99.50721385023768,\n        \"min\": 4.863697724525605,\n        \"max\": 229.0,\n        \"num_unique_values\": 8,\n        \"samples\": [\n          222.1,\n          221.5,\n          10.0\n        ],\n        \"semantic_type\": \"\",\n        \"description\": \"\"\n      }\n    }\n  ]\n}"
            }
          },
          "metadata": {},
          "execution_count": 17
        }
      ]
    },
    {
      "cell_type": "markdown",
      "source": [
        "## Operaciones con la librería Numpy"
      ],
      "metadata": {
        "id": "A7ZobB8oDmyL"
      }
    },
    {
      "cell_type": "code",
      "source": [
        "# Importamos la librería numpy\n",
        "import numpy as np"
      ],
      "metadata": {
        "id": "FIHXOZfHv5U2"
      },
      "execution_count": 18,
      "outputs": []
    },
    {
      "cell_type": "code",
      "source": [
        "np.median(list_1)     # Invocamos la función median de numpy para calcular la mediana de la lista list_1"
      ],
      "metadata": {
        "colab": {
          "base_uri": "https://localhost:8080/"
        },
        "id": "DXxpB4dFwckk",
        "outputId": "b5ca5222-0cf4-4a73-87bb-f05f003d5221"
      },
      "execution_count": 19,
      "outputs": [
        {
          "output_type": "execute_result",
          "data": {
            "text/plain": [
              "221.5"
            ]
          },
          "metadata": {},
          "execution_count": 19
        }
      ]
    },
    {
      "cell_type": "code",
      "source": [
        "np.median(list_2)     # Invocamos la función median de numpy para calcular la mediana de la lista list_2"
      ],
      "metadata": {
        "colab": {
          "base_uri": "https://localhost:8080/"
        },
        "id": "nJCmdx-OwjD4",
        "outputId": "b02674e9-fb96-45ce-8e94-a2d5f10a31e9"
      },
      "execution_count": 20,
      "outputs": [
        {
          "output_type": "execute_result",
          "data": {
            "text/plain": [
              "210.0"
            ]
          },
          "metadata": {},
          "execution_count": 20
        }
      ]
    },
    {
      "cell_type": "code",
      "source": [
        "# Generamos una función describe personalizada para generar varios cálculos con funciones de numpy, la cual retornará un diccionario con diferentes calculos.\n",
        "\n",
        "def describe(data):\n",
        "  if not data:\n",
        "    return \"La lista está vacía\"\n",
        "  else:\n",
        "    return {\n",
        "        \"count\" : len(data),\n",
        "        \"mean\" :  np.mean(data),\n",
        "        \"median\" : np.median(data),\n",
        "        \"std\" : np.std(data),\n",
        "        \"min\" : np.min(data),\n",
        "        \"max\" : np.max(data)\n",
        "    }\n"
      ],
      "metadata": {
        "id": "ozOBUQIrwmVI"
      },
      "execution_count": 21,
      "outputs": []
    },
    {
      "cell_type": "code",
      "source": [
        "describe(list_1) #Probamos la función"
      ],
      "metadata": {
        "colab": {
          "base_uri": "https://localhost:8080/"
        },
        "id": "DY1w5tcTztXj",
        "outputId": "12aab9ff-d0c5-4973-bcb2-300a640d4ca5"
      },
      "execution_count": 22,
      "outputs": [
        {
          "output_type": "execute_result",
          "data": {
            "text/plain": [
              "{'count': 10,\n",
              " 'mean': 222.1,\n",
              " 'median': 221.5,\n",
              " 'std': 4.6141087980237305,\n",
              " 'min': 216,\n",
              " 'max': 229}"
            ]
          },
          "metadata": {},
          "execution_count": 22
        }
      ]
    },
    {
      "cell_type": "code",
      "source": [
        "measures_list_1 = describe(list_1)  # creamos una variable para almacenar el resultado de la aplcación de la función sobre la lista list_1\n",
        "\n",
        "# Ahora usamos un bucle \"for\" para iterar sobre los elementos del diccionario.\n",
        "for key, value in measures_list_1.items():\n",
        "  print(f\"{key}: {value}\")"
      ],
      "metadata": {
        "colab": {
          "base_uri": "https://localhost:8080/"
        },
        "id": "Mfl4ikqSzwVQ",
        "outputId": "ab3c91f0-0db7-4c83-eba6-2c65185e8d8c"
      },
      "execution_count": 23,
      "outputs": [
        {
          "output_type": "stream",
          "name": "stdout",
          "text": [
            "count: 10\n",
            "mean: 222.1\n",
            "median: 221.5\n",
            "std: 4.6141087980237305\n",
            "min: 216\n",
            "max: 229\n"
          ]
        }
      ]
    },
    {
      "cell_type": "code",
      "source": [
        "measures_list_2 = describe(list_2)\n",
        "\n",
        "for key, value in measures_list_2.items():\n",
        "  print(f\"{key}: {value}\")"
      ],
      "metadata": {
        "colab": {
          "base_uri": "https://localhost:8080/"
        },
        "id": "DWJKCExoz-yv",
        "outputId": "06bf60db-bc0c-44e1-8b8b-7c548d342e41"
      },
      "execution_count": 24,
      "outputs": [
        {
          "output_type": "stream",
          "name": "stdout",
          "text": [
            "count: 10\n",
            "mean: 209.9\n",
            "median: 210.0\n",
            "std: 6.155485358604957\n",
            "min: 201\n",
            "max: 219\n"
          ]
        }
      ]
    },
    {
      "cell_type": "markdown",
      "source": [
        "## Ejercicio No. 2"
      ],
      "metadata": {
        "id": "lwzlsXOWEwVX"
      }
    },
    {
      "cell_type": "markdown",
      "source": [
        "Veinte hombres adultos de entre 30 y 40 años participaron en un estudio para evaluar el efecto de cierto régimen de salud, que incluye dieta y ejercicio, en el colesterol sanguíneo. Se eligieron aleatoriamente diez para el grupo de control y los otros diez se asignaron para participar en el régimen como el grupo de tratamiento durante un periodo de seis meses. Los siguientes datos muestran la reducción en el colesterol que experimentaron en ese periodo los 20 sujetos\n",
        "\n",
        "Grupo de control:   7   3   -4   14   2   5   22   -7   9   5\n",
        "\n",
        "Grupo de tratamiento:   -6   5   9   4   4   12   37   5   3   3\n",
        "\n",
        "Preguntas de esta tarea\n",
        "Calcule la media de cada grupo\n",
        "\n",
        "Calcule la mediana de cada grupo\n",
        "\n",
        "Calcule la media recortada al 10 % para cada grupo\n",
        "\n",
        "Explique porqué la diferencia en las medias sugiere una conclusión acerca del efecto del régimen, en tanto que la diferencia en las medianas o las medias recortadas sugiere una conclusión diferente."
      ],
      "metadata": {
        "id": "FmB2-lhAEthU"
      }
    },
    {
      "cell_type": "code",
      "source": [
        "# Para el resultado de estos ejercicios reutilizaremos las funciones desarrolladas anteriormente y las validaremos con las funciones de numpy."
      ],
      "metadata": {
        "id": "PwhVGx_TGria"
      },
      "execution_count": 25,
      "outputs": []
    },
    {
      "cell_type": "code",
      "source": [
        "# generamos las listas para cada grupo:\n",
        "l_grupo_1 = [7, 3, -4, 14, 2, 5, 22, -7, 9, 5]\n",
        "l_grupo_2 = [-6, 5, 9, 4, 4, 12, 37, 5, 3, 3]"
      ],
      "metadata": {
        "id": "NPw80THa0D7C"
      },
      "execution_count": 26,
      "outputs": []
    },
    {
      "cell_type": "code",
      "source": [
        "# calcular la media\n",
        "mean_1 = mean(l_grupo_1)\n",
        "mean_2 = mean(l_grupo_2)\n",
        "\n",
        "print (\"Las medias de los dos grupos son: \", mean_1, \" y \", mean_2)"
      ],
      "metadata": {
        "colab": {
          "base_uri": "https://localhost:8080/"
        },
        "id": "p-if4vwiFQPs",
        "outputId": "82e5b771-9e62-48b1-db52-3757d57d57e8"
      },
      "execution_count": 27,
      "outputs": [
        {
          "output_type": "stream",
          "name": "stdout",
          "text": [
            "Las medias de los dos grupos son:  5.6  y  7.6\n"
          ]
        }
      ]
    },
    {
      "cell_type": "code",
      "source": [
        "# calcular la mediana:\n",
        "print(\"Los valores de las medianas son: \", np.median(l_grupo_1), \"y \", np.median(l_grupo_2))"
      ],
      "metadata": {
        "colab": {
          "base_uri": "https://localhost:8080/"
        },
        "id": "P6rHOmLOFW0s",
        "outputId": "af4d8788-3b27-42de-cd6a-fc417fd1ea2a"
      },
      "execution_count": 28,
      "outputs": [
        {
          "output_type": "stream",
          "name": "stdout",
          "text": [
            "Los valores de las medianas son:  5.0 y  4.5\n"
          ]
        }
      ]
    },
    {
      "cell_type": "code",
      "source": [
        "# La función mean de numpy no requiere ordenar los valores de la lista, ya que internamente realiza todo el trabajo."
      ],
      "metadata": {
        "id": "961rd5V6GCvb"
      },
      "execution_count": 29,
      "outputs": []
    },
    {
      "cell_type": "code",
      "source": [
        "l_grupo_1.sort()\n",
        "l_grupo_2.sort()\n",
        "print(l_grupo_1)\n",
        "print(l_grupo_2)"
      ],
      "metadata": {
        "colab": {
          "base_uri": "https://localhost:8080/"
        },
        "id": "R3vDTLjvGVMF",
        "outputId": "8233a4fc-59aa-4f4f-f4fe-6f08a0212bd9"
      },
      "execution_count": 30,
      "outputs": [
        {
          "output_type": "stream",
          "name": "stdout",
          "text": [
            "[-7, -4, 2, 3, 5, 5, 7, 9, 14, 22]\n",
            "[-6, 3, 3, 4, 4, 5, 5, 9, 12, 37]\n"
          ]
        }
      ]
    },
    {
      "cell_type": "code",
      "source": [
        "median_l_grupo1 = median(l_grupo_1)\n",
        "median_l_grupo2 = median(l_grupo_2)\n",
        "print(\"Las medianas de los grupos son: \", median_l_grupo1, \"y \", median_l_grupo2)\n",
        "#"
      ],
      "metadata": {
        "colab": {
          "base_uri": "https://localhost:8080/"
        },
        "id": "VyexzDVyGbTm",
        "outputId": "bbb2842a-f33a-4ce4-ff15-78a8be6e2922"
      },
      "execution_count": 31,
      "outputs": [
        {
          "output_type": "stream",
          "name": "stdout",
          "text": [
            "Las medianas de los grupos son:  5.0 y  4.5\n"
          ]
        }
      ]
    },
    {
      "cell_type": "code",
      "source": [
        "# Media recortada.  Podemos crear una funcionq que reste el 10% de los items a la izquierda y derecha de cada lista, con esto generar una nueva lista y calcular la media.\n",
        "len(l_grupo_1)*0.1"
      ],
      "metadata": {
        "colab": {
          "base_uri": "https://localhost:8080/"
        },
        "id": "HxmkWukLGi-P",
        "outputId": "33cdb085-f9a8-4edf-b85b-2c4bb1e194d6"
      },
      "execution_count": 32,
      "outputs": [
        {
          "output_type": "execute_result",
          "data": {
            "text/plain": [
              "1.0"
            ]
          },
          "metadata": {},
          "execution_count": 32
        }
      ]
    },
    {
      "cell_type": "code",
      "source": [
        "# Creamos una funcion que recorte de una lista un porcentaje dado de valores.\n",
        "def porcentaje_reduccion(lista, porcentaje):\n",
        "  recortar_items = int(len(lista)*porcentaje)\n",
        "  return recortar_items\n"
      ],
      "metadata": {
        "id": "_x1msGfEJAKQ"
      },
      "execution_count": 33,
      "outputs": []
    },
    {
      "cell_type": "code",
      "source": [
        "l_grupo1_recortado = l_grupo_1[porcentaje_reduccion(l_grupo_1, 0.1):len(l_grupo_1)-porcentaje_reduccion(l_grupo_1, 0.1)]\n",
        "print(l_grupo1_recortado)"
      ],
      "metadata": {
        "colab": {
          "base_uri": "https://localhost:8080/"
        },
        "id": "9n1upFGYIBLd",
        "outputId": "c2d029d8-221e-46a2-a313-c36ce3667722"
      },
      "execution_count": 34,
      "outputs": [
        {
          "output_type": "stream",
          "name": "stdout",
          "text": [
            "[-4, 2, 3, 5, 5, 7, 9, 14]\n"
          ]
        }
      ]
    },
    {
      "cell_type": "code",
      "source": [
        "print(mean(l_grupo1_recortado))"
      ],
      "metadata": {
        "colab": {
          "base_uri": "https://localhost:8080/"
        },
        "id": "LDD0La3tK0N1",
        "outputId": "3825dc76-c86d-4093-a294-15ef024570a7"
      },
      "execution_count": 35,
      "outputs": [
        {
          "output_type": "stream",
          "name": "stdout",
          "text": [
            "5.125\n"
          ]
        }
      ]
    },
    {
      "cell_type": "code",
      "source": [
        "l_grupo2_recortado = l_grupo_2[porcentaje_reduccion(l_grupo_2, 0.1):len(l_grupo_2)-porcentaje_reduccion(l_grupo_2, 0.1)]\n",
        "print(l_grupo2_recortado)"
      ],
      "metadata": {
        "colab": {
          "base_uri": "https://localhost:8080/"
        },
        "id": "oNRY1FnOL0QI",
        "outputId": "6bc49bac-c35a-45a7-a510-9998897bde2d"
      },
      "execution_count": 36,
      "outputs": [
        {
          "output_type": "stream",
          "name": "stdout",
          "text": [
            "[3, 3, 4, 4, 5, 5, 9, 12]\n"
          ]
        }
      ]
    },
    {
      "cell_type": "code",
      "source": [
        "print(mean(l_grupo2_recortado))"
      ],
      "metadata": {
        "colab": {
          "base_uri": "https://localhost:8080/"
        },
        "id": "Jeht2ZS6Mg_2",
        "outputId": "77487793-d034-4da6-9766-64fa09a218e0"
      },
      "execution_count": 37,
      "outputs": [
        {
          "output_type": "stream",
          "name": "stdout",
          "text": [
            "5.625\n"
          ]
        }
      ]
    },
    {
      "cell_type": "markdown",
      "source": [
        "## Ahora probamos la función trim_mean para calcular la media recortada con la librería scipy.stats"
      ],
      "metadata": {
        "id": "Oc6xxK8ENNIX"
      }
    },
    {
      "cell_type": "code",
      "source": [
        "from scipy.stats import trim_mean\n",
        "\n",
        "media_recortada1 = trim_mean(l_grupo_1, proportiontocut=0.1)\n",
        "\n",
        "print(f\"Media recortada al 10% en grupo 1: {media_recortada1}\")\n",
        "\n",
        "media_recortada2 = trim_mean(l_grupo_2, proportiontocut=0.1)\n",
        "\n",
        "print(f\"Media recortada al 10%  en grupo 2: {media_recortada2}\")\n"
      ],
      "metadata": {
        "colab": {
          "base_uri": "https://localhost:8080/"
        },
        "id": "uukmajbtMle9",
        "outputId": "932dd404-a0c0-4a38-af33-7799a1a86584"
      },
      "execution_count": 38,
      "outputs": [
        {
          "output_type": "stream",
          "name": "stdout",
          "text": [
            "Media recortada al 10% en grupo 1: 5.125\n",
            "Media recortada al 10%  en grupo 2: 5.625\n"
          ]
        }
      ]
    },
    {
      "cell_type": "code",
      "source": [
        "print(\"grupo 1: \", l_grupo_1, \", media: \" , mean(l_grupo_1))\n",
        "print(\"grupo 1 recortado: \", l_grupo1_recortado, \" media: \", mean(l_grupo1_recortado))\n",
        "\n",
        "print(\"grupo 2: \", l_grupo_2, \" media: \", mean(l_grupo_2))\n",
        "print(\"grupo 2 recortado: \", l_grupo2_recortado, \" media: \", mean(l_grupo2_recortado))\n"
      ],
      "metadata": {
        "colab": {
          "base_uri": "https://localhost:8080/"
        },
        "id": "flWYHMPwSELw",
        "outputId": "3db42a6f-df91-4a71-bbe3-a122a45559be"
      },
      "execution_count": 39,
      "outputs": [
        {
          "output_type": "stream",
          "name": "stdout",
          "text": [
            "grupo 1:  [-7, -4, 2, 3, 5, 5, 7, 9, 14, 22] , media:  5.6\n",
            "grupo 1 recortado:  [-4, 2, 3, 5, 5, 7, 9, 14]  media:  5.125\n",
            "grupo 2:  [-6, 3, 3, 4, 4, 5, 5, 9, 12, 37]  media:  7.6\n",
            "grupo 2 recortado:  [3, 3, 4, 4, 5, 5, 9, 12]  media:  5.625\n"
          ]
        }
      ]
    },
    {
      "cell_type": "markdown",
      "source": [
        "Observaciones:\n",
        "EN el grupo 1 la media disminuye después del recorte dado que el recorte elimina el valor más alto (22).\n",
        "En el grupo 2, ocurre lo mismo, también disminuye la media cuando se recorta el grupo dado que se elimina el valor más alto, el cual tiene una distancia muy significativa a las medidas de tendencia central."
      ],
      "metadata": {
        "id": "iCG5lUE5S3cA"
      }
    },
    {
      "cell_type": "markdown",
      "source": [
        "## La Moda:\n",
        "La moda se calcula tomanndo el valor que más se repite en las mediciones."
      ],
      "metadata": {
        "id": "Ly60CYl7IiaQ"
      }
    },
    {
      "cell_type": "code",
      "source": [
        "# Función personalizada para calcular la moda:\n",
        "def calcular_moda(lista):\n",
        "    # Crear un diccionario vacío para contar las frecuencias\n",
        "    frecuencias = {}\n",
        "\n",
        "    # Contar la frecuencia de cada elemento en la lista\n",
        "    for numero in lista:\n",
        "        if numero in frecuencias:\n",
        "            frecuencias[numero] += 1\n",
        "        else:\n",
        "            frecuencias[numero] = 1\n",
        "\n",
        "    # Encontrar la frecuencia máxima\n",
        "    max_frecuencia = max(frecuencias.values())\n",
        "\n",
        "    # Encontrar todos los números que tienen esa frecuencia máxima\n",
        "    modas = [key for key, value in frecuencias.items() if value == max_frecuencia]\n",
        "\n",
        "    ##return frecuencias\n",
        "    return modas"
      ],
      "metadata": {
        "id": "fK6osgyFLCii"
      },
      "execution_count": 103,
      "outputs": []
    },
    {
      "cell_type": "code",
      "source": [
        "calcular_moda(list_1)"
      ],
      "metadata": {
        "colab": {
          "base_uri": "https://localhost:8080/"
        },
        "id": "sBk1NT4BLKA9",
        "outputId": "b98b2a2d-c3b9-416e-d21c-dd5b984c018f"
      },
      "execution_count": 104,
      "outputs": [
        {
          "output_type": "execute_result",
          "data": {
            "text/plain": [
              "[218]"
            ]
          },
          "metadata": {},
          "execution_count": 104
        }
      ]
    },
    {
      "cell_type": "code",
      "source": [
        "import statistics as statistics\n",
        "moda = statistics.mode(list_1)\n",
        "print(f\"La moda es: {moda}\")"
      ],
      "metadata": {
        "colab": {
          "base_uri": "https://localhost:8080/"
        },
        "id": "KlqJtU6sIhCS",
        "outputId": "9850faeb-be0a-47d4-baed-dfd47da824e4"
      },
      "execution_count": 97,
      "outputs": [
        {
          "output_type": "stream",
          "name": "stdout",
          "text": [
            "La moda es: 218\n"
          ]
        }
      ]
    },
    {
      "cell_type": "code",
      "source": [
        "# Ahora cambia el código de la moda, quita la linea de retorno de modas descomenta la linea return frecuencia,\n",
        "##así podrás ver el diccionario que tiene la cantidad de veces que se repite cada número de la lista"
      ],
      "metadata": {
        "id": "fk-evVCzMF2S"
      },
      "execution_count": 106,
      "outputs": []
    },
    {
      "cell_type": "code",
      "source": [
        "# Se debe tener en cuenta que dado que los grupos se ordenaron con la función sort, el recorte se hace del valor más pequeño y más alto, siendo estos los extremos."
      ],
      "metadata": {
        "id": "7wJIJ6M7MdRU"
      },
      "execution_count": 40,
      "outputs": []
    },
    {
      "cell_type": "markdown",
      "source": [
        "# **Parte 2. Medidas de Variabilidad o dispersión**"
      ],
      "metadata": {
        "id": "5QRppgpo2-R4"
      }
    },
    {
      "cell_type": "markdown",
      "source": [
        "### **El Rango**\n",
        "El rango es la diferencia entre el dato más pequeño de la muestra y el dato más grande de la muestra.\n",
        "\n",
        "$$\n",
        "\\text{Rango  de  la  muestra} = X_{max} - X_{min}\n",
        "$$\n",
        "\n"
      ],
      "metadata": {
        "id": "F7x9EXDj3QV-"
      }
    },
    {
      "cell_type": "markdown",
      "source": [
        "### **La Varianza Muestral**\n",
        "\n",
        "La varianza o Varianza muestral, es la sumatoria de la diferencia entre el cuadrado de cada medida y la media aritmética. Sobre n-1\n",
        "\n",
        "$$\n",
        "S^2 =  \\sum_{i=1}^n \\frac{(x_i - \\bar{x})^2}{n-1}\n",
        "$$\n",
        "\n",
        "<br>\n",
        "<br>\n",
        "\n",
        "\n",
        "### **Desviación Estandar**\n",
        "* La Desviación estandar obtiene al calcular la raiz cuadrada de la varianza, simbolisandose como \"s\".\n",
        "\n",
        "$$\n",
        "S = \\sqrt[2]{S^2}$$\n"
      ],
      "metadata": {
        "id": "NiHCMwjn39FF"
      }
    },
    {
      "cell_type": "code",
      "source": [
        "# Definimos una fórmula para calcular la varianza muestral:\n",
        "def varianza_muestral(lista):\n",
        "  numerador = 0\n",
        "  for x in lista:\n",
        "    numerador += (x-mean(lista))**2\n",
        "  varianza = numerador/len(lista)-1\n",
        "  return varianza"
      ],
      "metadata": {
        "id": "XH1OqH1u3Czg"
      },
      "execution_count": 83,
      "outputs": []
    },
    {
      "cell_type": "code",
      "source": [
        "varianza_muestral(list_1)"
      ],
      "metadata": {
        "colab": {
          "base_uri": "https://localhost:8080/"
        },
        "id": "k_pmiJBy_gke",
        "outputId": "d7c0fe55-fef2-4185-df45-a1e28542d9e6"
      },
      "execution_count": 84,
      "outputs": [
        {
          "output_type": "execute_result",
          "data": {
            "text/plain": [
              "20.29"
            ]
          },
          "metadata": {},
          "execution_count": 84
        }
      ]
    },
    {
      "cell_type": "code",
      "source": [
        "## Ahora comparamos nuestro resultado con la función de varianza de numpy:\n",
        "np.var(list_1)\n"
      ],
      "metadata": {
        "colab": {
          "base_uri": "https://localhost:8080/"
        },
        "id": "AfTbURGmE-LD",
        "outputId": "dcc9453e-c4d5-4d7c-c296-43cecc7d11eb"
      },
      "execution_count": 81,
      "outputs": [
        {
          "output_type": "execute_result",
          "data": {
            "text/plain": [
              "21.29"
            ]
          },
          "metadata": {},
          "execution_count": 81
        }
      ]
    },
    {
      "cell_type": "code",
      "source": [
        "# Se genera una diferencia dado que numpy calcula la varianza poblacional. Para calcular la varianza poblacional, modifcamos quitando la resta de 1 al denominador de la varianza muestral"
      ],
      "metadata": {
        "id": "WPgExaD6F3yq"
      },
      "execution_count": 82,
      "outputs": []
    },
    {
      "cell_type": "code",
      "source": [],
      "metadata": {
        "id": "jkgShHA8GfA5"
      },
      "execution_count": null,
      "outputs": []
    },
    {
      "cell_type": "markdown",
      "source": [
        "### **La Varianza Poblacional**\n",
        "\n",
        "La varianza o Varianza muestral, es la sumatoria de la diferencia entre el cuadrado de cada medida y la media aritmética. Sobre n-1\n",
        "\n",
        "$$\n",
        "S^2 =  \\sum_{i=1}^n \\frac{(x_i - \\bar{x})^2}{n}\n",
        "$$"
      ],
      "metadata": {
        "id": "NhSflwtqGga_"
      }
    },
    {
      "cell_type": "code",
      "source": [
        "# Definimos una fórmula para calcular la varianza poblacional:\n",
        "def varianza_poblacional(lista):\n",
        "  numerador = 0\n",
        "  for x in lista:\n",
        "    numerador += (x-mean(lista))**2\n",
        "  varianza = numerador/len(lista)\n",
        "  return varianza"
      ],
      "metadata": {
        "id": "YylmCMCRAIoZ"
      },
      "execution_count": 85,
      "outputs": []
    },
    {
      "cell_type": "code",
      "source": [
        "varianza_poblacional(list_1)"
      ],
      "metadata": {
        "colab": {
          "base_uri": "https://localhost:8080/"
        },
        "id": "SOxqQ-VsGsR2",
        "outputId": "373c2cb1-f50d-4669-a1ec-75440f176ba9"
      },
      "execution_count": 86,
      "outputs": [
        {
          "output_type": "execute_result",
          "data": {
            "text/plain": [
              "21.29"
            ]
          },
          "metadata": {},
          "execution_count": 86
        }
      ]
    },
    {
      "cell_type": "code",
      "source": [
        "# Hacemos la comparación:\n",
        "np.var(list_1) == varianza_poblacional(list_1)"
      ],
      "metadata": {
        "colab": {
          "base_uri": "https://localhost:8080/"
        },
        "id": "R6tArbFPGx_o",
        "outputId": "262036e9-ec7d-414b-b597-a9b52dc27afa"
      },
      "execution_count": 89,
      "outputs": [
        {
          "output_type": "execute_result",
          "data": {
            "text/plain": [
              "True"
            ]
          },
          "metadata": {},
          "execution_count": 89
        }
      ]
    },
    {
      "cell_type": "code",
      "source": [
        "# Calculamos la desviación estandar:\n",
        "\n",
        "def desv_estandar(lista):\n",
        "  return np.sqrt(varianza_poblacional(lista))"
      ],
      "metadata": {
        "id": "NeuUp0qcG2ws"
      },
      "execution_count": 90,
      "outputs": []
    },
    {
      "cell_type": "code",
      "source": [
        "# probamos:\n",
        "desv_estandar(list_1)"
      ],
      "metadata": {
        "colab": {
          "base_uri": "https://localhost:8080/"
        },
        "id": "DzVXeCz3HQEM",
        "outputId": "baa2a443-d6ca-4e4d-983e-da610347c462"
      },
      "execution_count": 91,
      "outputs": [
        {
          "output_type": "execute_result",
          "data": {
            "text/plain": [
              "4.6141087980237305"
            ]
          },
          "metadata": {},
          "execution_count": 91
        }
      ]
    },
    {
      "cell_type": "code",
      "source": [
        "# Comparamos con numoy:\n",
        "np.std(list_1)"
      ],
      "metadata": {
        "colab": {
          "base_uri": "https://localhost:8080/"
        },
        "id": "MtLMj9H0HTww",
        "outputId": "262d5a20-c9d6-4b10-9d52-3d987eea6fbf"
      },
      "execution_count": 92,
      "outputs": [
        {
          "output_type": "execute_result",
          "data": {
            "text/plain": [
              "4.6141087980237305"
            ]
          },
          "metadata": {},
          "execution_count": 92
        }
      ]
    },
    {
      "cell_type": "code",
      "source": [],
      "metadata": {
        "id": "pxvhW3OJHXvI"
      },
      "execution_count": null,
      "outputs": []
    }
  ]
}